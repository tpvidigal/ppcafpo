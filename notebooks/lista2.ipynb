{
 "cells": [
  {
   "cell_type": "markdown",
   "metadata": {},
   "source": [
    "<img src=\"img/lista2_header.png\" alt=\"Drawing\" style=\"width: 850px; padding-right: 120px\" class=\"left\"/>"
   ]
  },
  {
   "cell_type": "markdown",
   "metadata": {},
   "source": [
    "**Integrantes**\n",
    "\n",
    "- Sandro Furtado - 20/0095757\n",
    "\n",
    "- Tiago Vidigal - 20/0095773\n",
    "\n",
    "- William Oliveira - 20/0095790"
   ]
  },
  {
   "cell_type": "code",
   "execution_count": 1,
   "metadata": {},
   "outputs": [],
   "source": [
    "import matplotlib.pyplot as plt\n",
    "import numpy as np"
   ]
  },
  {
   "cell_type": "markdown",
   "metadata": {},
   "source": [
    "<img src=\"img/lista2_22_q1.png\" alt=\"Drawing\" style=\"width: 1200px; padding-right: 120px\" class=\"left\"/>"
   ]
  },
  {
   "cell_type": "markdown",
   "metadata": {},
   "source": [
    "Convertendo o problema para um dicionário de equações:\n",
    "\n",
    "$\n",
    "\\begin{align}\n",
    "\\quad & Z\\ = 0 +4x_1 +3x_2\\\\\n",
    "  &     x_3 = 7 -1x_1 -3x_2\\\\\n",
    "  &     x_4 = 8 -2x_1 -2x_2\\\\\n",
    "  &     x_5 = 3 -1x_1 -1x_2\\\\\n",
    "  &     x_6 = 2 +0x_1 -1x_2\\\\\n",
    "  &     x_1, x_2, x_3, x_4, x_5, x_6 \\geq 0\\\\\n",
    "\\end{align}\n",
    "$\n",
    "\n",
    "O dicionário acima possui:\n",
    "* Variáveis basicas:$\\quad\\quad\\ \\ \\ Z, x_3, x_4, x_5, x_6$\n",
    "* Variáveis não-basicas: $\\quad\\ x_1, x_2$\n",
    "* Maior incremento de $Z$:$\\quad x_1$\n",
    "\n",
    "Maximizando a variável que mais incrementa $Z$:\n",
    "\n",
    "$\n",
    "\\begin{align}\n",
    "\\quad & x_1 \\geq 0\\\\\n",
    "  &     x_3 = 7 -1x_1 \\geq 0 \\rightarrow x_1 \\leq 7\\\\\n",
    "  &     x_4 = 8 -2x_1 \\geq 0 \\rightarrow x_1 \\leq 4\\\\\n",
    "  &     x_5 = 3 -1x_1 \\geq 0 \\rightarrow x_1 \\leq 3\\\\\n",
    "  &     x_6 = 2 +0x_1\n",
    "\\end{align}\n",
    "$\n",
    "\n",
    "Podemos ver na maximização acima que:\n",
    "* Maior valor positivo: $\\quad\\ \\ \\ 3$\n",
    "* Soluções viáveis:$\\quad\\quad\\ \\ \\ 0 \\leq x_1 \\leq 3$\n",
    "* Maior restrição: $\\quad\\quad\\quad x_5 = 3 -1x_1$\n",
    "\n",
    "Assim, podemos modificar o dicionário considerando:\n",
    "* Maior restrição da variável: $\\quad x_5 = 3 -1x_1 -1x_2$\n",
    "* Adaptando a restrição:$\\quad\\quad\\ \\ x_1 = 3 -1x_5 -1x_2$\n",
    "\n",
    "O dicionario atualizado é:\n",
    "\n",
    "$\n",
    "\\begin{align}\n",
    "\\quad & Z\\ = 12 -4x_5 -1x_2\\\\\n",
    "  &     x_3 =\\ \\ 4 -2x_2 +1x_5\\\\\n",
    "  &     x_4 =\\ \\ 2 +0x_2 +2x_5\\\\\n",
    "  &     x_1 =\\ \\ 3 -1x_2 -1x_5\\\\\n",
    "  &     x_6 =\\ \\ 2 -1x_2 +0x_5\\\\\n",
    "  &     x_1, x_2, x_3, x_4, x_5, x_6 \\geq 0\\\\\n",
    "\\end{align}\n",
    "$\n",
    "\n",
    "Uma vez que $Z$ não possui mais nenhum coefiecient positivo, nenhuma outra maximização irá aumentar nossa solução.\n",
    "Logo, nossa solução ótima será:\n",
    "* $Z\\   = 12$\n",
    "* $x_1 =\\ \\ 3$\n",
    "* $x_2 =\\ \\ 0$\n",
    "* $x_3 =\\ \\ 4$\n",
    "* $x_4 =\\ \\ 2$\n",
    "* $x_5 =\\ \\ 0$\n",
    "* $x_6 =\\ \\ 2$\n"
   ]
  },
  {
   "cell_type": "markdown",
   "metadata": {},
   "source": [
    "<img src=\"img/lista2_22_q2.png\" alt=\"Drawing\" style=\"width: 1200px; padding-right: 120px\" class=\"left\"/>"
   ]
  },
  {
   "cell_type": "markdown",
   "metadata": {},
   "source": [
    "Convertendo o problema para um dicionário de equações:\n",
    "\n",
    "$\n",
    "\\begin{align}\n",
    "\\quad & Z\\ =\\ \\ 0 +4x_1 +8x_2\\\\\n",
    "  &     x_3 = 18 -3x_1 -2x_2\\\\\n",
    "  &     x_4 =\\ \\ 5 -1x_1 -1x_2\\\\\n",
    "  &     x_5 =\\ \\ 4 -1x_1 +0x_2\\\\\n",
    "  &     x_1, x_2, x_3, x_4, x_5 \\geq 0\\\\\n",
    "\\end{align}\n",
    "$\n",
    "\n",
    "O dicionário acima possui:\n",
    "* Variáveis basicas:$\\quad\\quad\\ \\ \\ Z, x_3, x_4, x_5$\n",
    "* Variáveis não-basicas: $\\quad\\ x_1, x_2$\n",
    "* Maior incremento de $Z$:$\\quad x_2$\n",
    "\n",
    "Maximizando a variável que mais incrementa $Z$:\n",
    "\n",
    "$\n",
    "\\begin{align}\n",
    "\\quad & x_2 \\geq 0\\\\\n",
    "  &     x_3 = 18 -2x_2 \\geq 0 \\rightarrow x_2 \\leq 9\\\\\n",
    "  &     x_4 =\\ \\ 5 -1x_2 \\geq 0 \\rightarrow x_2 \\leq 5\\\\\n",
    "  &     x_5 =\\ \\ 4 +0x_2\n",
    "\\end{align}\n",
    "$\n",
    "\n",
    "Podemos ver na maximização acima que:\n",
    "* Maior valor positivo: $\\quad\\ \\ \\ 5$\n",
    "* Soluções viáveis:$\\quad\\quad\\ \\ \\ 0 \\leq x_2 \\leq 5$\n",
    "* Maior restrição: $\\quad\\quad\\quad x_4 = 5 -1x_2$\n",
    "\n",
    "Assim, podemos modificar o dicionário considerando:\n",
    "* Maior restrição da variável: $\\quad x_4 = 5 -1x_1 -1x_2$\n",
    "* Adaptando a restrição:$\\quad\\quad\\ \\ x_2 = 5 -1x_1 -1x_4$\n",
    "\n",
    "O dicionario atualizado é:\n",
    "\n",
    "$\n",
    "\\begin{align}\n",
    "\\quad & Z\\ = 40 -4x_1 -8x_4\\\\\n",
    "  &     x_3 =\\ \\ 8 -1x_1 +2x_4\\\\\n",
    "  &     x_2 =\\ \\ 5 -1x_1 -1x_4\\\\\n",
    "  &     x_5 =\\ \\ 4 -1x_1 +0x_4\\\\\n",
    "  &     x_1, x_2, x_3, x_4, x_5 \\geq 0\\\\\n",
    "\\end{align}\n",
    "$\n",
    "\n",
    "Uma vez que $Z$ não possui mais nenhum coefiecient positivo, nenhuma outra maximização irá aumentar nossa solução.\n",
    "Logo, nossa solução ótima será:\n",
    "* $Z\\   = 40$\n",
    "* $x_1 =\\ \\ 0$\n",
    "* $x_2 =\\ \\ 5$\n",
    "* $x_3 =\\ \\ 8$\n",
    "* $x_4 =\\ \\ 0$\n",
    "* $x_5 =\\ \\ 4$"
   ]
  },
  {
   "cell_type": "markdown",
   "metadata": {},
   "source": [
    "<img src=\"img/lista2_22_q3.png\" alt=\"Drawing\" style=\"width: 1200px; padding-right: 120px\" class=\"left\"/>"
   ]
  },
  {
   "cell_type": "markdown",
   "metadata": {},
   "source": [
    "Convertendo o problema para um dicionário de equações:\n",
    "\n",
    "$\n",
    "\\begin{align}\n",
    "\\quad & Z\\ = \\ \\ 0 +2x_1 +6x_2\\\\\n",
    "  &     x_3 = 12 -4x_1 -3x_2\\\\\n",
    "  &     x_4 = \\ \\ 8 -2x_1 -1x_2\\\\\n",
    "  &     x_1, x_2, x_3, x_4 \\geq 0\\\\\n",
    "\\end{align}\n",
    "$\n",
    "\n",
    "O dicionário acima possui:\n",
    "* Variáveis basicas:$\\quad\\quad\\ \\ \\ Z, x_3, x_4$\n",
    "* Variáveis não-basicas: $\\quad\\ x_1, x_2$\n",
    "* Maior incremento de $Z$:$\\quad x_2$\n",
    "\n",
    "Maximizando a variável que mais incrementa $Z$:\n",
    "\n",
    "$\n",
    "\\begin{align}\n",
    "\\quad & x_2 \\geq 0\\\\\n",
    "  &     x_3 = 12 -3x_2 \\geq 0 \\rightarrow x_2 \\leq 4\\\\\n",
    "  &     x_4 = \\ \\ 8 -1x_2 \\geq 0 \\rightarrow x_2 \\leq 8\\\\\n",
    "\\end{align}\n",
    "$\n",
    "\n",
    "Podemos ver na maximização acima que:\n",
    "* Maior valor positivo: $\\quad\\ \\ \\ 4$\n",
    "* Soluções viáveis:$\\quad\\quad\\ \\ \\ 0 \\leq x_2 \\leq 4$\n",
    "* Maior restrição: $\\quad\\quad\\quad x_3 = 12 -3x_2$\n",
    "\n",
    "Assim, podemos modificar o dicionário considerando:\n",
    "* Maior restrição da variável: $\\quad x_3 = 12 -4x_1 -3x_2$\n",
    "* Adaptando a restrição:$\\quad\\quad\\ \\ x_2 = 4 -(4/3)x_1 -(1/3)x_3$\n",
    "\n",
    "O dicionario atualizado é:\n",
    "\n",
    "$\n",
    "\\begin{align}\n",
    "\\quad & Z\\ = 24 \\ \\ \\ \\ \\ -6x_1 \\ \\ \\ \\ \\ \\ -2x_3\\\\\n",
    "  &     x_2 =\\ \\ 4 -(4/3)x_1 -(1/3)x_3\\\\\n",
    "  &     x_4 = \\ \\ 4 -(2/3)x_1 +(1/3)x_3\\\\\n",
    "  &     x_1, x_2, x_3, x_4 \\geq 0\\\\\n",
    "\\end{align}\n",
    "$\n",
    "\n",
    "Uma vez que $Z$ não possui mais nenhum coefiecient positivo, nenhuma outra maximização irá aumentar nossa solução.\n",
    "Logo, nossa solução ótima será:\n",
    "* $Z\\   = 24$\n",
    "* $x_1 =\\ \\ 0$\n",
    "* $x_2 =\\ \\ 4$\n",
    "* $x_3 =\\ \\ 0$\n",
    "* $x_4 =\\ \\ 4$\n"
   ]
  },
  {
   "cell_type": "markdown",
   "metadata": {
    "pycharm": {
     "name": "#%% md\n"
    }
   },
   "source": [
    "<img src=\"img/lista2_24_q1.png\" alt=\"Drawing\" style=\"width: 1200px; padding-right: 120px\" class=\"left\"/>"
   ]
  },
  {
   "cell_type": "markdown",
   "metadata": {},
   "source": [
    "Explicação"
   ]
  },
  {
   "cell_type": "code",
   "execution_count": 5,
   "metadata": {},
   "outputs": [],
   "source": [
    "%load ../lista2/ex24_q1.py"
   ]
  },
  {
   "cell_type": "markdown",
   "metadata": {},
   "source": [
    "Mais explicação"
   ]
  },
  {
   "cell_type": "markdown",
   "metadata": {},
   "source": [
    "<img src=\"img/lista2_24_q2.png\" alt=\"Drawing\" style=\"width: 1200px; padding-right: 120px\" class=\"left\"/>"
   ]
  },
  {
   "cell_type": "markdown",
   "metadata": {},
   "source": [
    "Explicação"
   ]
  },
  {
   "cell_type": "code",
   "execution_count": 6,
   "metadata": {},
   "outputs": [],
   "source": [
    "%load ../lista2/ex24_q2.py"
   ]
  },
  {
   "cell_type": "markdown",
   "metadata": {},
   "source": [
    "Mais explicação"
   ]
  },
  {
   "cell_type": "markdown",
   "metadata": {},
   "source": [
    "<img src=\"img/lista2_24_q3.png\" alt=\"Drawing\" style=\"width: 1200px; padding-right: 120px\" class=\"left\"/>"
   ]
  },
  {
   "cell_type": "markdown",
   "metadata": {},
   "source": [
    "Explicação"
   ]
  },
  {
   "cell_type": "code",
   "execution_count": 7,
   "metadata": {},
   "outputs": [],
   "source": [
    "%load ../lista2/ex24_q3.py"
   ]
  },
  {
   "cell_type": "markdown",
   "metadata": {},
   "source": [
    "Mais explicação"
   ]
  }
 ],
 "metadata": {
  "kernelspec": {
   "display_name": "Python 3",
   "language": "python",
   "name": "python3"
  },
  "language_info": {
   "codemirror_mode": {
    "name": "ipython",
    "version": 3
   },
   "file_extension": ".py",
   "mimetype": "text/x-python",
   "name": "python",
   "nbconvert_exporter": "python",
   "pygments_lexer": "ipython3",
   "version": "3.8.5"
  }
 },
 "nbformat": 4,
 "nbformat_minor": 1
}

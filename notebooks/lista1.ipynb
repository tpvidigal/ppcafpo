{
 "cells": [
  {
   "cell_type": "markdown",
   "metadata": {},
   "source": [
    "<img src=\"img/lista1_header.png\" alt=\"Drawing\" style=\"width: 850px; padding-right: 120px\" class=\"left\"/>"
   ]
  },
  {
   "cell_type": "markdown",
   "metadata": {},
   "source": [
    "**Integrantes**\n",
    "\n",
    "- Sandro Furtado - 20/0095757\n",
    "\n",
    "- Tiago Vidigal - 20/0095773\n",
    "\n",
    "- William Oliveira - 20/0095790"
   ]
  },
  {
   "cell_type": "code",
   "execution_count": 1,
   "metadata": {},
   "outputs": [],
   "source": [
    "import matplotlib.pyplot as plt\n",
    "import numpy as np"
   ]
  },
  {
   "cell_type": "markdown",
   "metadata": {},
   "source": [
    "<img src=\"img/lista1_q1.png\" alt=\"Drawing\" style=\"width: 850px; padding-right: 120px\" class=\"left\"/>"
   ]
  },
  {
   "cell_type": "markdown",
   "metadata": {},
   "source": [
    "**a)** Na situação acima, podemos identificar duas variáveis:\n",
    "\n",
    "&emsp; &emsp; $x_1$: Quantidade de sessões de treinamento de natação;\n",
    "\n",
    "&emsp; &emsp; $x_2$: Quantidade de sessões de treinamento de ciclismo;\n",
    "\n",
    "Logo, &emsp; &emsp; &emsp; &emsp; f(x) =   x1 +   x2\n",
    "\n",
    "\n",
    "Agora veremos as fórmulas das restrições:\n",
    "\n",
    "&emsp; 3x1 + 2x2<= 70 #Restrição orçamentária\n",
    "\n",
    "&emsp; 1500x1 + 1000x2 <= 80.000 #Restrição calórica\n",
    "\n",
    "&emsp; 2x1 + 2x2 <= 18 #Restrição temporal\n",
    "\n",
    "&emsp; x1, x2 >= 1 #Ambas modalidades\n",
    "\n",
    "\n",
    "Agora vamos plotar as restrições no gráfico:\n",
    "\n",
    "**Restrição orçamentária**\n",
    "\n",
    "Assumindo que x1 = 0\n",
    "\n",
    "&emsp; 3*0 + 2x2 = 70\n",
    "\n",
    "&emsp; 2x2 = 70\n",
    "\n",
    "&emsp; x2 = 70/2 = 35\n",
    " \n",
    "Assumindo que x2 = 0\n",
    "\n",
    "&emsp; 3x1 + 2*0 = 70\n",
    "\n",
    "&emsp; 3x1 = 70\n",
    "\n",
    "&emsp; x1 = 70/3 = 23.33\n",
    "\n",
    "\n",
    "**Restrição calórica**\n",
    "\n",
    "Assumindo que x1 = 0\n",
    "\n",
    "&emsp; 1500*0 + 1000x2 = 80.000\n",
    "\n",
    "&emsp; 1000x2 = 80.000\n",
    "\n",
    "&emsp; x2 = 80.000/1.000 = 80\n",
    "\n",
    "Assumindo que x2 = 0\n",
    "\n",
    "&emsp; 1500x1 + 1000*0 = 80.000\n",
    "\n",
    "&emsp; 1500x1 = 80.000\n",
    "\n",
    "&emsp; x1 = 80.000/1.500 = 53.33\n",
    "\n",
    "**Restrição temporal**\n",
    "\n",
    "Assumindo que x1 = 0\n",
    "\n",
    "&emsp; 2*0 + 2x2 = 18\n",
    "\n",
    "&emsp; 2x2 = 18\n",
    "\n",
    "&emsp; x2 = 18/2 = 9\n",
    "\n",
    "Assumindo que x2 = 0\n",
    "\n",
    "&emsp; 2x1 + 2*0 = 18\n",
    "\n",
    "&emsp; 2x1 = 18\n",
    "\n",
    "&emsp; x1 = 18/2 = 9\n"
   ]
  },
  {
   "cell_type": "code",
   "execution_count": 2,
   "metadata": {},
   "outputs": [
    {
     "data": {
      "image/png": "[encoded data removed]",
      "text/plain": [
       "<Figure size 432x288 with 1 Axes>"
      ]
     },
     "metadata": {
      "needs_background": "light"
     },
     "output_type": "display_data"
    }
   ],
   "source": [
    "#restrição orçamentária\n",
    "\n",
    "x1 = [22.33, 0]\n",
    "y1 = [0, 35]\n",
    "\n",
    "plt.plot(x1, y1, label = \"Restrição orçamentária\")\n",
    "plt.fill_between(x1, y1, [0,0], alpha=0.2)\n",
    "\n",
    "#restrição calórica\n",
    "x2 = [53.33, 0]\n",
    "y2 = [0, 80]\n",
    "\n",
    "plt.plot(x2, y2, label = \"Restrição calórica\")\n",
    "plt.fill_between(x2, y2, [0,0], alpha=0.2)\n",
    "\n",
    "#restrição temporal\n",
    "x3 = [9, 0]\n",
    "y3 = [0, 9]\n",
    "\n",
    "plt.plot(x3, y3, label = \"Restrição temporal\")\n",
    "plt.fill_between(x3, y3, [0,0], alpha=0.2)\n",
    "\n",
    "x4 = [1, 1]\n",
    "y4 = [0, 80]\n",
    "\n",
    "plt.plot(x4, y4, label = \"Restrição pelo menos uma natação\")\n",
    "\n",
    "x5 = [0, 80]\n",
    "y5 = [1, 1]\n",
    "\n",
    "plt.plot(x5, y5, label = \"Restrição pelo menos um ciclismo\")\n",
    "\n",
    "plt.title(\"Esportes: Espaço de soluções\")\n",
    "plt.xlabel(r\"$x_1$ (natação)\")\n",
    "plt.ylabel(r\"$x_2$ (ciclismo)\")\n",
    "plt.legend()\n",
    "plt.grid()\n",
    "plt.show()"
   ]
  },
  {
   "cell_type": "markdown",
   "metadata": {},
   "source": [
    "**b)** \n",
    "\n",
    "A região verde do nosso gráfico contem todas as soluções válidas de nosso problema considerando todas as restrições impostas. Como queremos maximizar nossa função objetivo, as soluções ótimas estão em cima da linha verde."
   ]
  },
  {
   "cell_type": "markdown",
   "metadata": {},
   "source": [
    "<img src=\"img/lista1_q2_0.png\" alt=\"Drawing\" style=\"width: 850px; padding-right: 120px\" class=\"left\"/>"
   ]
  },
  {
   "cell_type": "markdown",
   "metadata": {},
   "source": [
    "<img src=\"img/lista1_q2_1.png\" alt=\"Drawing\" style=\"width: 850px; padding-right: 120px\" class=\"left\"/>"
   ]
  },
  {
   "cell_type": "markdown",
   "metadata": {},
   "source": [
    "**a)**\n",
    "\n",
    "Boneco: 27 reais\n",
    "\n",
    "Matéria-Prima: 10 reais\n",
    "\n",
    "Mão de Obra: 13 reais\n",
    "\n",
    "Trem: 21 reais\n",
    "\n",
    "Máreia-Prima: 9 reais\n",
    "\n",
    "Mão de obra: 10 reais\n",
    "\n",
    "--- Manufatura ---\n",
    "\n",
    "Boneco acabamento: 2h\n",
    "\n",
    "Boneco carpintaria: 1h\n",
    "\n",
    "Trem acabamento: 1h\n",
    "\n",
    "Trem carpintaria: 1h\n",
    "\n",
    "acabamento: 100h\n",
    "\n",
    "carpintaria: 80h\n",
    "\n",
    "trens demanda: ilimitada\n",
    "\n",
    "bonecos demanda: ≤40\n",
    "\n",
    "f(x) = 4x + 2y  (A1) (função objetivo: lucro boneco e trem)\n",
    "\n",
    "&emsp; 2x + y ≤ 100    (A2) (restrição acabamento)\n",
    "\n",
    "&emsp; x + y ≤ 80      (A3) (restrição carpintaria)\n",
    "\n",
    "&emsp; x ≤ 40          (A4) (restrição unidades bonecos)"
   ]
  },
  {
   "cell_type": "code",
   "execution_count": 3,
   "metadata": {
    "pycharm": {
     "name": "#%%\n"
    }
   },
   "outputs": [
    {
     "data": {
      "image/png": "[encoded data removed]",
      "text/plain": [
       "<Figure size 432x288 with 1 Axes>"
      ]
     },
     "metadata": {
      "needs_background": "light"
     },
     "output_type": "display_data"
    }
   ],
   "source": [
    "x1 = [50, 0]\n",
    "y1 = [0, 100]\n",
    "\n",
    "plt.plot(x1, y1, label = \"Restrição Horas Acabamento\")\n",
    "plt.fill_between(x1, y1, [0,0], alpha=0.2)\n",
    "\n",
    "x2 = [80, 0]\n",
    "y2 = [0, 80]\n",
    "\n",
    "plt.plot(x2, y2, label = \"Restrição Horas Carpintaria\")\n",
    "plt.fill_between(x2, y2, [0,0], alpha=0.2)\n",
    "\n",
    "x3 = [40, 40]\n",
    "y3 = [0, 100]\n",
    "\n",
    "plt.plot(x3, y3, label = \"Restrição Unidades Bonecos\")\n",
    "plt.fill_betweenx(y3, x3, [0,0], alpha=0.2)\n",
    "\n",
    "plt.title(\"Bonecos e Trens: Espaço de soluções\")\n",
    "plt.xlabel(r\"$x_1$ (boneco)\")\n",
    "plt.ylabel(r\"$x_2$ (trem)\")\n",
    "plt.legend()\n",
    "plt.grid()\n",
    "plt.show()"
   ]
  },
  {
   "cell_type": "markdown",
   "metadata": {},
   "source": [
    "A região do gráfico que é preenchida pelas 3 cores representa o nosso espaço de soluções válidas considerando todas as restrições.\n",
    "\n",
    "**b)**\n",
    "\n",
    "Graficamente, podemos inferir que as soluções ótimas estão sobre a linha que delimita a região referenciada na letra a. Podemos verificar o valor da função objetivo nestes pontos da seguinte forma:"
   ]
  },
  {
   "cell_type": "code",
   "execution_count": 4,
   "metadata": {},
   "outputs": [
    {
     "name": "stdout",
     "output_type": "stream",
     "text": [
      "Solução ótima:          200.0\n",
      "Qtd de soluções ótimas: 21\n"
     ]
    }
   ],
   "source": [
    "# Região 1: abaixo da linha de Restrição Horas Carpintaria\n",
    "f1_x1 = np.linspace(0, 19, 20)\n",
    "f1_x2 = [ 80 - x for x in f1_x1 ]\n",
    "f1 = []\n",
    "for i in range(len(f1_x1)):\n",
    "    f1 += [4*f1_x1[i] + 2*f1_x2[i]]\n",
    "    \n",
    "# Região 2: abaixo da linha de Restrição Horas Acabamento\n",
    "f2_x1 = np.linspace(20, 40, 21)\n",
    "f2_x2 = [ 100 - 2*x for x in f2_x1 ]\n",
    "f2 = []\n",
    "for i in range(len(f2_x1)):\n",
    "    f2 += [4*f2_x1[i] + 2*f2_x2[i]]\n",
    "\n",
    "solucao_otima   = max(f1 + f2)\n",
    "solucoes_otimas = [f for f in f1 + f2 if f==solucao_otima]\n",
    "num_solucoes    = len(solucoes_otimas)\n",
    "\n",
    "print(\"Solução ótima:         \", solucao_otima)\n",
    "print(\"Qtd de soluções ótimas:\", num_solucoes)"
   ]
  },
  {
   "cell_type": "markdown",
   "metadata": {},
   "source": [
    "Assim, encontramos a solução ótima como sendo 200, a qual ocorre nos 21 pontos delimitados pela linha da Restrição Horas Acabamento dentro da regição de soluções possíveis. \n",
    "\n",
    "**c)**\n",
    "\n",
    "Dado a nova função objetivo:\n",
    "\n",
    "&emsp; $min\\ g(x) = 5x_1 + 3x_2$\n",
    "\n",
    "Isso é equivalente a:\n",
    "\n",
    "&emsp; $max\\ g'(x) = -1 * (5x_1 + 3x_2)$\n",
    "\n",
    "Considerando nossas restrições anteriores, podemos encontrar a solução ótima da nova função objetivo como:"
   ]
  },
  {
   "cell_type": "code",
   "execution_count": 5,
   "metadata": {},
   "outputs": [
    {
     "name": "stdout",
     "output_type": "stream",
     "text": [
      "Solução ótima:          -240.0\n",
      "Qtd de soluções ótimas: 1\n"
     ]
    }
   ],
   "source": [
    "# Região 1: abaixo da linha de Restrição Horas Carpintaria\n",
    "g1 = []\n",
    "for i in range(len(f1_x1)):\n",
    "    g1 += [-1*(5*f1_x1[i] + 3*f1_x2[i])]\n",
    "    \n",
    "# Região 2: abaixo da linha de Restrição Horas Acabamento\n",
    "g2 = []\n",
    "for i in range(len(f2_x1)):\n",
    "    g2 += [-1*(5*f2_x1[i] + 3*f2_x2[i])]\n",
    "\n",
    "solucao_otima   = max(g1 + g2)\n",
    "solucoes_otimas = [g for g in g1 + g2 if g==solucao_otima]\n",
    "num_solucoes    = len(solucoes_otimas)\n",
    "\n",
    "print(\"Solução ótima:         \", solucao_otima)\n",
    "print(\"Qtd de soluções ótimas:\", num_solucoes)"
   ]
  },
  {
   "cell_type": "markdown",
   "metadata": {},
   "source": [
    "Nesta nova função objetivo, possuimos apenas 1 solução ótima para produzir o máximo de brinquedos com menor custo operacional, que será de 240 reais."
   ]
  },
  {
   "cell_type": "markdown",
   "metadata": {},
   "source": [
    "<img src=\"img/lista1_q3.png\" alt=\"Drawing\" style=\"width: 850px; padding-right: 120px\" class=\"left\"/>"
   ]
  },
  {
   "cell_type": "markdown",
   "metadata": {},
   "source": [
    "**a)** Na situação acima, podemos identificar duas variáveis:\n",
    "\n",
    "&emsp; &emsp; $x_1$: Número de unidades de terra com trigo\n",
    "\n",
    "&emsp; &emsp; $x_2$: Número de unidades de terra com milho\n",
    "\n",
    "A função objetivo que queremos maximizar:\n",
    "\n",
    "&emsp; &emsp; $max\\ y = 24x_1 + 8.4x_2$\n",
    "\n",
    "&emsp; &emsp; s.a.&emsp;$x_1 + x_2 \\leq 10$\n",
    "\n",
    "&emsp; &emsp; &emsp; &emsp; $20x_1 + 30x_2 \\leq 120$\n",
    "\n",
    "&emsp; &emsp; &emsp; &emsp; $x_1 \\geq 1$\n",
    "\n",
    "&emsp; &emsp; &emsp; &emsp; $x_2 \\geq 3$\n",
    "\n",
    "&emsp; &emsp; &emsp; &emsp; $x_1, x_2 \\in \\mathbb{Z}$\n",
    "\n",
    "**b)** Dessa forma, podemos gerar um gráfico para analizar o espaço de soluções:\n"
   ]
  },
  {
   "cell_type": "code",
   "execution_count": 6,
   "metadata": {},
   "outputs": [
    {
     "data": {
      "image/png": "[encoded data removed]",
      "text/plain": [
       "<Figure size 432x288 with 1 Axes>"
      ]
     },
     "metadata": {
      "needs_background": "light"
     },
     "output_type": "display_data"
    }
   ],
   "source": [
    "# Restrição 1\n",
    "x_1 = np.linspace(0, 10, 11)\n",
    "x_2 = np.linspace(10, 0, 11)\n",
    "plt.plot(x_1, x_2, label=r\"$x_1 + x_2 \\leq 10$\")\n",
    "plt.fill_between(x_1, x_2, [0]*11, alpha=0.2)\n",
    "\n",
    "# Restrição 2\n",
    "x_1 = np.linspace(0, 6, 7)\n",
    "x_2 = [(12 - 2*x) / 3 for x in x_1]\n",
    "plt.plot(x_1, x_2, 'g', label=r\"$20x_1 + 30x_2 \\leq 120$\")\n",
    "plt.fill_between(x_1, x_2, [0]*7, color='g', alpha=0.2)\n",
    "\n",
    "# Restrição 3\n",
    "plt.plot([1,1], [0,10], 'r', label=r\"$x_1 \\geq 1$\")\n",
    "plt.fill_betweenx([0,10], [1,1], [10,10], color='r', alpha=0.1)\n",
    "\n",
    "# Restrição 4\n",
    "plt.plot([0,10], [3,3], 'y', label=r\"$x_2 \\geq 3$\")\n",
    "plt.fill_between([0,10], [3,3], [10,10], color='y', alpha=0.2)\n",
    "\n",
    "plt.title(\"Pequeno produtor: Espaço de soluções\")\n",
    "plt.xlabel(r\"$x_1$\")\n",
    "plt.ylabel(r\"$x_2$\")\n",
    "plt.xticks(np.linspace(0, 10, 11))\n",
    "plt.yticks(np.linspace(0, 10, 11))\n",
    "plt.grid()\n",
    "plt.legend()\n",
    "plt.show()"
   ]
  },
  {
   "cell_type": "markdown",
   "metadata": {},
   "source": [
    "**c)** Podemos ver no gráfico acima que nosso espaço de soluções se restringe a uma área bem pequena. Considerando $x_1$ e $x_2$ inteiros (restrição 5), a única combinação possível é:\n",
    "\n",
    "&emsp; &emsp; &emsp; &emsp; $x_1 = 1$\n",
    "\n",
    "&emsp; &emsp; &emsp; &emsp; $x_2 = 3$\n",
    "\n",
    "Dessa forma, o pequeno produtor poderá apenas participar no mercado com 1 cultura de trigo e 3 de milho, o mínimo para o consumo interno.\n",
    "\n",
    "**d)** A restrição do número de unidades de terra (restrição 1) acaba não influenciando, uma vez que a restrição de armazenamento do silo é muito mais rígida. Logo, ela pode ser ignorada sem alterar a solução ótima encontrada."
   ]
  },
  {
   "cell_type": "code",
   "execution_count": 7,
   "metadata": {},
   "outputs": [
    {
     "data": {
      "image/png": "[encoded data removed]",
      "text/plain": [
       "<Figure size 432x288 with 1 Axes>"
      ]
     },
     "metadata": {
      "needs_background": "light"
     },
     "output_type": "display_data"
    }
   ],
   "source": [
    "# Restrição 2\n",
    "x_1 = np.linspace(0, 6, 7)\n",
    "x_2 = [(12 - 2*x) / 3 for x in x_1]\n",
    "plt.plot(x_1, x_2, 'g', label=r\"$20x_1 + 30x_2 \\leq 120$\")\n",
    "plt.fill_between(x_1, x_2, [0]*7, color='g', alpha=0.2)\n",
    "\n",
    "# Restrição 3\n",
    "plt.plot([1,1], [0,10], 'r', label=r\"$x_1 \\geq 1$\")\n",
    "plt.fill_betweenx([0,10], [1,1], [10,10], color='r', alpha=0.1)\n",
    "\n",
    "# Restrição 4\n",
    "plt.plot([0,10], [3,3], 'y', label=r\"$x_2 \\geq 3$\")\n",
    "plt.fill_between([0,10], [3,3], [10,10], color='y', alpha=0.2)\n",
    "\n",
    "plt.title(\"Pequeno produtor: Espaço de soluções (sem restrição 1)\")\n",
    "plt.xlabel(r\"$x_1$\")\n",
    "plt.ylabel(r\"$x_2$\")\n",
    "plt.xticks(np.linspace(0, 10, 11))\n",
    "plt.yticks(np.linspace(0, 10, 11))\n",
    "plt.grid()\n",
    "plt.legend()\n",
    "plt.show()"
   ]
  },
  {
   "cell_type": "markdown",
   "metadata": {
    "pycharm": {
     "name": "#%% md\n"
    }
   },
   "source": [
    "**e)** Dado o aumento do milho de 0.28 para 1.00 real por kilo, uma alteração é feita na função objetivo. No entanto, as restrições não são afetadas e nosso gráfico de espaço de soluções acima permanece atual. Logo, dado o único par de valores possíveis, a solução ótima é inalterada:\n",
    "\n",
    "&emsp; &emsp; &emsp; &emsp; $x_1 = 1$\n",
    "\n",
    "&emsp; &emsp; &emsp; &emsp; $x_2 = 3$\n",
    "\n",
    "\n"
   ]
  }
 ],
 "metadata": {
  "kernelspec": {
   "display_name": "Python 3",
   "language": "python",
   "name": "python3"
  },
  "language_info": {
   "codemirror_mode": {
    "name": "ipython",
    "version": 3
   },
   "file_extension": ".py",
   "mimetype": "text/x-python",
   "name": "python",
   "nbconvert_exporter": "python",
   "pygments_lexer": "ipython3",
   "version": "3.8.5"
  }
 },
 "nbformat": 4,
 "nbformat_minor": 1
}
